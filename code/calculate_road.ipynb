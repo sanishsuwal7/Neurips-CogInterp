{
 "cells": [
  {
   "cell_type": "code",
   "execution_count": 1,
   "id": "789a2557-5dbf-43a2-a5d9-a45769a813f8",
   "metadata": {},
   "outputs": [],
   "source": [
    "import torch\n",
    "from torch import nn\n",
    "import torch.nn as nn\n",
    "import torch.nn.functional as F\n",
    "from torch.utils.data import DataLoader\n",
    "import torch.nn.utils.prune as prune\n",
    "\n",
    "import torchvision\n",
    "from torchvision import datasets\n",
    "from torchvision import transforms\n",
    "from torchmetrics import Accuracy\n",
    "\n",
    "import torch.optim as optim\n",
    "\n",
    "import quantus\n",
    "import captum\n",
    "from captum.attr import Saliency, IntegratedGradients, NoiseTunnel\n",
    "\n",
    "import pandas as pd\n",
    "import numpy as np\n",
    "import matplotlib.pyplot as plt\n",
    "\n",
    "import random\n",
    "import copy\n",
    "import gc\n",
    "import math\n",
    "\n",
    "import warnings\n",
    "warnings.filterwarnings('ignore')\n",
    "\n",
    "from pathlib import Path\n",
    "\n",
    "import matplotlib.pyplot as plt\n",
    "%matplotlib inline\n",
    "\n",
    "from resnet_18 import *"
   ]
  },
  {
   "cell_type": "code",
   "execution_count": 2,
   "id": "cd58378c-41af-44f0-9c36-50bd3d0aa1b0",
   "metadata": {},
   "outputs": [
    {
     "name": "stdout",
     "output_type": "stream",
     "text": [
      "True\n"
     ]
    }
   ],
   "source": [
    "print(torch.cuda.is_available())"
   ]
  },
  {
   "cell_type": "code",
   "execution_count": 3,
   "id": "fb4934b8-9d2b-46d1-9bc3-a2a4a276957a",
   "metadata": {},
   "outputs": [],
   "source": [
    "device = torch.device(\"cuda\" if torch.cuda.is_available() else \"cpu\")"
   ]
  },
  {
   "cell_type": "code",
   "execution_count": 4,
   "id": "e91f6e9b-7045-40d4-b041-0c8ad2540529",
   "metadata": {},
   "outputs": [],
   "source": [
    "%run utils.ipynb\n",
    "%run metrics.ipynb"
   ]
  },
  {
   "cell_type": "code",
   "execution_count": 5,
   "id": "70895d69-1cee-4ca4-9eef-19317edbece7",
   "metadata": {},
   "outputs": [],
   "source": [
    "batch_size = 4\n",
    "train_path = '../datasets/imagenette2/train'\n",
    "val_path = '../datasets/imagenette2/val'"
   ]
  },
  {
   "cell_type": "code",
   "execution_count": 6,
   "id": "b0b6f4c0-9af8-4e2d-a8e0-264ffef0cdc6",
   "metadata": {},
   "outputs": [],
   "source": [
    "train_dataloader = DataLoader(datasets.ImageFolder(train_path, transform = transforms.Compose([\n",
    "                                                                    transforms.RandomResizedCrop(224),\n",
    "                                                                    transforms.RandomHorizontalFlip(),\n",
    "                                                                    transforms.ToTensor(),\n",
    "                                                                    transforms.Normalize(mean=[0.485, 0.456, 0.406],\n",
    "                                                                                        std=[0.229, 0.224, 0.225])\n",
    "                                                            ])), batch_size = batch_size, shuffle=True, num_workers=4, pin_memory=True)\n",
    "\n",
    "test_dataloader = DataLoader(datasets.ImageFolder(val_path,\n",
    "                                                               transform=transforms.Compose([\n",
    "                                                                   transforms.ToTensor(),\n",
    "                                                                   transforms.Resize([224, 224]),\n",
    "                                                                   transforms.Normalize(mean=[0.485, 0.456, 0.406],\n",
    "                                                                                        std=[0.229, 0.224, 0.225])\n",
    "                                                               ])),batch_size=batch_size, shuffle=True,num_workers=4, pin_memory=True)\n"
   ]
  },
  {
   "cell_type": "code",
   "execution_count": 7,
   "id": "9742a475-96d0-41e8-a6f6-118d2ecdd438",
   "metadata": {},
   "outputs": [],
   "source": [
    "classes = ['tench', 'springer', 'casette_player', 'chain_saw','church', 'French_horn', 'garbage_truck', 'gas_pump', 'golf_ball', 'parachute']\n"
   ]
  },
  {
   "cell_type": "code",
   "execution_count": 8,
   "id": "f5b653e8-c20c-46a5-b0ae-1c46c5e80305",
   "metadata": {},
   "outputs": [],
   "source": [
    "criterion = nn.CrossEntropyLoss(reduction=\"mean\").cuda()"
   ]
  },
  {
   "cell_type": "markdown",
   "id": "9de4a931-d0b0-462f-9c3f-6448639255f3",
   "metadata": {},
   "source": [
    "# Vanilla Gradient"
   ]
  },
  {
   "cell_type": "markdown",
   "id": "37d87baa-0161-4d89-be0d-e1cedadd5692",
   "metadata": {},
   "source": [
    "## Normal Model"
   ]
  },
  {
   "cell_type": "code",
   "execution_count": null,
   "id": "8b06c642-5d45-4cef-8182-4bc401b98d35",
   "metadata": {},
   "outputs": [],
   "source": [
    "MODEL_PATH = \"models/0_model_lt.pth.tar\"\n",
    "model = torch.load(MODEL_PATH, map_location=device, weights_only=False)\n",
    "model.to(device)\n",
    "\n",
    "result = filter_and_compute_road(model, test_dataloader, \"Saliency\", device, resnet = True)\n",
    "print(\"The road score is: \", result)"
   ]
  },
  {
   "cell_type": "markdown",
   "id": "c5ef8ce6-07a5-424c-a6b2-b262a4c3548c",
   "metadata": {},
   "source": [
    "## Prune 10%"
   ]
  },
  {
   "cell_type": "code",
   "execution_count": 18,
   "id": "5b4f2142-8ddc-455c-ac23-62c294672a71",
   "metadata": {},
   "outputs": [
    {
     "name": "stdout",
     "output_type": "stream",
     "text": [
      "Test Accuracy: 83.13%\n",
      "The road score is:  {1: np.float64(0.9799208963778208), 11: np.float64(0.9136983714162727), 21: np.float64(0.8637160553598301), 31: np.float64(0.8006494027445334), 41: np.float64(0.7237594767473243), 51: np.float64(0.6276571377706955), 61: np.float64(0.5362060711547837), 71: np.float64(0.43228985890760535), 81: np.float64(0.3291858131864658), 91: np.float64(0.25164405727791406)}\n"
     ]
    }
   ],
   "source": [
    "MODEL_PATH = \"models/1_10_model_lt.pth.tar\"\n",
    "model = torch.load(MODEL_PATH, map_location=device, weights_only=False)\n",
    "model.to(device)\n",
    "\n",
    "result = filter_and_compute_road(model, test_dataloader, \"Saliency\", device, resnet = True)\n",
    "print(\"The road score is: \", result)\n",
    "del model"
   ]
  },
  {
   "cell_type": "markdown",
   "id": "505e59d5-ea47-4b14-9452-112fbe046105",
   "metadata": {},
   "source": [
    "## Prune 20%"
   ]
  },
  {
   "cell_type": "code",
   "execution_count": 16,
   "id": "f97fb389-179c-46c6-8a86-b2d3e551459e",
   "metadata": {},
   "outputs": [
    {
     "name": "stdout",
     "output_type": "stream",
     "text": [
      "Test Accuracy: 84.31%\n",
      "The road score is:  {1: np.float64(0.9815317446919453), 11: np.float64(0.916264309570018), 21: np.float64(0.8550035656800294), 31: np.float64(0.78959464373224), 41: np.float64(0.7143713719788255), 51: np.float64(0.6170017447664645), 61: np.float64(0.535769578517576), 71: np.float64(0.440189077713297), 81: np.float64(0.34097142622121834), 91: np.float64(0.2647278476711539)}\n"
     ]
    }
   ],
   "source": [
    "MODEL_PATH = \"models/1_model_lt.pth.tar\"\n",
    "model = torch.load(MODEL_PATH, map_location=device, weights_only=False)\n",
    "model.to(device)\n",
    "\n",
    "result = filter_and_compute_road(model, test_dataloader, \"Saliency\", device, resnet = True)\n",
    "print(\"The road score is: \", result)"
   ]
  },
  {
   "cell_type": "markdown",
   "id": "588e10b4-efd6-4b89-a617-54e224a6dafb",
   "metadata": {},
   "source": [
    "## Prune 30%"
   ]
  },
  {
   "cell_type": "code",
   "execution_count": 21,
   "id": "c22ed990-84f3-4d46-9575-76df04d97e14",
   "metadata": {},
   "outputs": [
    {
     "name": "stdout",
     "output_type": "stream",
     "text": [
      "Test Accuracy: 85.55%\n",
      "The road score is:  {1: np.float64(0.9820257658315142), 11: np.float64(0.9274665111306769), 21: np.float64(0.8728924914795306), 31: np.float64(0.8038201046585481), 41: np.float64(0.7230428491972497), 51: np.float64(0.6394828207378183), 61: np.float64(0.5341273658014597), 71: np.float64(0.42564235011338775), 81: np.float64(0.33250923822599016), 91: np.float64(0.24350088953506518)}\n"
     ]
    }
   ],
   "source": [
    "MODEL_PATH = \"models/2_model_lt.pth.tar\"\n",
    "model = torch.load(MODEL_PATH, map_location=device, weights_only=False)\n",
    "model.to(device)\n",
    "\n",
    "result_normal = filter_and_compute_road(model, test_dataloader, \"Saliency\", device, resnet = True)\n",
    "print(\"The road score is: \", result_normal)\n",
    "del model"
   ]
  },
  {
   "cell_type": "markdown",
   "id": "7b016c55-029a-45e8-a173-4e4f34357f6d",
   "metadata": {},
   "source": [
    "## Prune 50%"
   ]
  },
  {
   "cell_type": "code",
   "execution_count": 23,
   "id": "a7679a22-4c8d-4907-bd5d-10d4c9723989",
   "metadata": {},
   "outputs": [
    {
     "name": "stdout",
     "output_type": "stream",
     "text": [
      "Test Accuracy: 84.43%\n",
      "The road score is:  {1: np.float64(0.9835630670525478), 11: np.float64(0.9342213103810895), 21: np.float64(0.8821054857545466), 31: np.float64(0.8255040473880926), 41: np.float64(0.7546564625140637), 51: np.float64(0.6619870188715149), 61: np.float64(0.5630498173438654), 71: np.float64(0.46577110960962625), 81: np.float64(0.3588333885456528), 91: np.float64(0.25681642034993374)}\n"
     ]
    }
   ],
   "source": [
    "MODEL_PATH = \"models/12_model_lt.pth.tar\"\n",
    "model = torch.load(MODEL_PATH, map_location=device, weights_only=False)\n",
    "model.to(device)\n",
    "\n",
    "result = filter_and_compute_road(model, test_dataloader, \"Saliency\", device, resnet = True)\n",
    "print(\"The road score is: \", result)\n",
    "del model"
   ]
  },
  {
   "cell_type": "markdown",
   "id": "7d09a6b9-2d58-41f6-9910-76a9c0421789",
   "metadata": {},
   "source": [
    "## Prune 70%"
   ]
  },
  {
   "cell_type": "code",
   "execution_count": 25,
   "id": "71153524-114b-4145-96e9-faf0ff632e8c",
   "metadata": {},
   "outputs": [
    {
     "name": "stdout",
     "output_type": "stream",
     "text": [
      "Test Accuracy: 83.46%\n",
      "The road score is:  {1: np.float64(0.9860395021377726), 11: np.float64(0.9380568182055771), 21: np.float64(0.8859509869049661), 31: np.float64(0.8254678674765173), 41: np.float64(0.7475342621319393), 51: np.float64(0.651121103479216), 61: np.float64(0.5477292968705794), 71: np.float64(0.446885111033178), 81: np.float64(0.34203169419053664), 91: np.float64(0.24484063846912646)}\n"
     ]
    }
   ],
   "source": [
    "MODEL_PATH = \"models/29_model_lt.pth.tar\"\n",
    "model = torch.load(MODEL_PATH, map_location=device, weights_only=False)\n",
    "model.to(device)\n",
    "\n",
    "result = filter_and_compute_road(model, test_dataloader, \"Saliency\", device, resnet = True)\n",
    "print(\"The road score is: \", result)\n",
    "del model"
   ]
  },
  {
   "cell_type": "markdown",
   "id": "c7648483-db6a-4abf-894e-4f85cd5d421e",
   "metadata": {},
   "source": [
    "# Integrated Gradients"
   ]
  },
  {
   "cell_type": "code",
   "execution_count": 27,
   "id": "e470b08e-7dee-4a5c-aee7-4dbd292c2de3",
   "metadata": {},
   "outputs": [
    {
     "name": "stdout",
     "output_type": "stream",
     "text": [
      "cuda\n"
     ]
    }
   ],
   "source": [
    "print(device)"
   ]
  },
  {
   "cell_type": "markdown",
   "id": "b9913e8f-c009-4f6d-97db-e4711f1f5bc0",
   "metadata": {},
   "source": [
    "## Normal Model"
   ]
  },
  {
   "cell_type": "code",
   "execution_count": null,
   "id": "9db2328a-1d47-4a3d-8c9f-c243945f7633",
   "metadata": {},
   "outputs": [],
   "source": [
    "MODEL_PATH = \"models/0_model_lt.pth.tar\"\n",
    "model = torch.load(MODEL_PATH, map_location=device, weights_only=False)\n",
    "model.to(device)\n",
    "result_normal = filter_and_compute_road(model, test_dataloader, \"IntegratedGradients\", device, resnet = True)\n",
    "print(\"The road score is: \", result_normal)\n",
    "del model"
   ]
  },
  {
   "cell_type": "markdown",
   "id": "9794c79e-c0fa-4359-8976-1b481ebb4c5b",
   "metadata": {},
   "source": [
    "## Prune 10%"
   ]
  },
  {
   "cell_type": "code",
   "execution_count": null,
   "id": "23ed0724-f712-41d1-badc-f0c124e00d0d",
   "metadata": {},
   "outputs": [],
   "source": [
    "MODEL_PATH = \"models/1_10_model_lt.pth.tar\"\n",
    "model = torch.load(MODEL_PATH, map_location=device, weights_only=False)\n",
    "model.to(device)\n",
    "\n",
    "result_prune_10 = filter_and_compute_road(model, test_dataloader, \"IntegratedGradients\", device, resnet = True)\n",
    "print(\"The road score is: \", result_prune_10)\n",
    "del model"
   ]
  },
  {
   "cell_type": "markdown",
   "id": "d896f29b-ebd1-4428-8f20-4f1427244001",
   "metadata": {},
   "source": [
    "## Prune 20%"
   ]
  },
  {
   "cell_type": "code",
   "execution_count": null,
   "id": "b701c1bb-d872-4f75-b94a-611d776ec02c",
   "metadata": {},
   "outputs": [],
   "source": [
    "MODEL_PATH = \"models/1_model_lt.pth.tar\"\n",
    "model = torch.load(MODEL_PATH, map_location=device, weights_only=False)\n",
    "model.to(device)\n",
    "result_prune_20 = filter_and_compute_road(model, test_dataloader, \"IntegratedGradients\", device, resnet = True)\n",
    "print(\"The road score is: \", result_prune_20)"
   ]
  },
  {
   "cell_type": "markdown",
   "id": "0652c246-cd41-4b4e-8693-606784db7343",
   "metadata": {},
   "source": [
    "## Prune 30%"
   ]
  },
  {
   "cell_type": "code",
   "execution_count": null,
   "id": "a37deaea-0eac-48de-b304-0050173d6455",
   "metadata": {},
   "outputs": [],
   "source": [
    "MODEL_PATH = \"models/2_model_lt.pth.tar\"\n",
    "model = torch.load(MODEL_PATH, map_location=device, weights_only=False)\n",
    "model.to(device)\n",
    "\n",
    "result_prune_30 = filter_and_compute_road(model, test_dataloader, \"IntegratedGradients\", device, resnet = True)\n",
    "print(\"The road score is: \", result_prune_30)\n",
    "del model"
   ]
  },
  {
   "cell_type": "markdown",
   "id": "be6aa864-ee1d-45ae-bd95-22ddfc213967",
   "metadata": {},
   "source": [
    "## Prune 50%"
   ]
  },
  {
   "cell_type": "code",
   "execution_count": null,
   "id": "3039eefc-3b0d-4ecf-aa39-893508b9b486",
   "metadata": {},
   "outputs": [],
   "source": [
    "MODEL_PATH = \"models/12_model_lt.pth.tar\"\n",
    "model = torch.load(MODEL_PATH, map_location=device, weights_only=False)\n",
    "model.to(device)\n",
    "\n",
    "result_prune_50 = filter_and_compute_road(model, test_dataloader, \"IntegratedGradients\", device, resnet = True)\n",
    "print(\"The road score is: \", result_prune_50)\n",
    "del model"
   ]
  },
  {
   "cell_type": "markdown",
   "id": "d9aec780-3a94-418d-85ce-f7527221f2db",
   "metadata": {},
   "source": [
    "## Prune 70%"
   ]
  },
  {
   "cell_type": "code",
   "execution_count": null,
   "id": "0ae9b852-e7e5-4b79-9df0-55e191585680",
   "metadata": {},
   "outputs": [],
   "source": [
    "MODEL_PATH = \"models/29_model_lt.pth.tar\"\n",
    "model = torch.load(MODEL_PATH, map_location=device, weights_only=False)\n",
    "model.to(device)\n",
    "\n",
    "result_prune_70 = filter_and_compute_road(model, test_dataloader, \"IntegratedGradients\", device, resnet = True)\n",
    "print(\"The road score is: \", result_prune_70)\n",
    "del model"
   ]
  }
 ],
 "metadata": {
  "kernelspec": {
   "display_name": "Python 3 (ipykernel)",
   "language": "python",
   "name": "python3"
  },
  "language_info": {
   "codemirror_mode": {
    "name": "ipython",
    "version": 3
   },
   "file_extension": ".py",
   "mimetype": "text/x-python",
   "name": "python",
   "nbconvert_exporter": "python",
   "pygments_lexer": "ipython3",
   "version": "3.13.5"
  }
 },
 "nbformat": 4,
 "nbformat_minor": 5
}
