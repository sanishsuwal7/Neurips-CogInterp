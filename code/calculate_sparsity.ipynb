{
 "cells": [
  {
   "cell_type": "code",
   "execution_count": 2,
   "id": "e1f94c6f-f07e-4a1b-a7b2-5fa1fa62e9ba",
   "metadata": {},
   "outputs": [],
   "source": [
    "import sys\n",
    "import os\n",
    "parent_dir = os.path.abspath(os.path.join(os.getcwd(), 'resnet'))\n",
    "sys.path.append(parent_dir)\n",
    "\n",
    "import torch\n",
    "from torch import nn\n",
    "import torch.nn as nn\n",
    "import torch.nn.functional as F\n",
    "from torch.utils.data import DataLoader\n",
    "import torch.nn.utils.prune as prune\n",
    "\n",
    "import torchvision\n",
    "from torchvision import datasets\n",
    "from torchvision import transforms\n",
    "from torchmetrics import Accuracy\n",
    "\n",
    "import torch.optim as optim\n",
    "import quantus\n",
    "import captum\n",
    "from captum.attr import Saliency, IntegratedGradients, NoiseTunnel\n",
    "\n",
    "import pandas as pd\n",
    "import numpy as np\n",
    "import matplotlib.pyplot as plt\n",
    "\n",
    "import random\n",
    "import copy\n",
    "import gc\n",
    "import math\n",
    "\n",
    "import warnings\n",
    "warnings.filterwarnings('ignore')\n",
    "\n",
    "from pathlib import Path\n",
    "\n",
    "import matplotlib.pyplot as plt\n",
    "%matplotlib inline\n",
    "\n",
    "from resnet_18 import *\n",
    "\n",
    "from scipy.integrate import simpson"
   ]
  },
  {
   "cell_type": "code",
   "execution_count": 2,
   "id": "cc5d90b6-6fb5-4929-8e3f-6243b6a6b2d4",
   "metadata": {},
   "outputs": [
    {
     "name": "stdout",
     "output_type": "stream",
     "text": [
      "True\n"
     ]
    }
   ],
   "source": [
    "print(torch.cuda.is_available())"
   ]
  },
  {
   "cell_type": "code",
   "execution_count": 3,
   "id": "7a59bef7-635d-41b6-8c5f-f16ae9749d33",
   "metadata": {},
   "outputs": [],
   "source": [
    "device = torch.device(\"cuda\" if torch.cuda.is_available() else \"cpu\")"
   ]
  },
  {
   "cell_type": "code",
   "execution_count": 4,
   "id": "c9568f01-12c0-45b8-b959-a1194279be66",
   "metadata": {},
   "outputs": [],
   "source": [
    "%run utils.ipynb"
   ]
  },
  {
   "cell_type": "code",
   "execution_count": 5,
   "id": "607527d0-eda1-4517-b6f1-35d8f044b19e",
   "metadata": {},
   "outputs": [],
   "source": [
    "batch_size = 8\n",
    "train_path = '../datasets/imagenette2/train'\n",
    "val_path = '../datasets/imagenette2/val'"
   ]
  },
  {
   "cell_type": "code",
   "execution_count": 6,
   "id": "914d4fe2-4fab-4076-a32a-4a3e239043e1",
   "metadata": {},
   "outputs": [],
   "source": [
    "train_dataloader = DataLoader(datasets.ImageFolder(train_path, transform = transforms.Compose([\n",
    "                                                                    transforms.RandomResizedCrop(224),\n",
    "                                                                    transforms.RandomHorizontalFlip(),\n",
    "                                                                    transforms.ToTensor(),\n",
    "                                                                    transforms.Normalize(mean=[0.485, 0.456, 0.406],\n",
    "                                                                                        std=[0.229, 0.224, 0.225])\n",
    "                                                            ])), batch_size = batch_size, shuffle=True, num_workers=4, pin_memory=True)\n",
    "\n",
    "test_dataloader = DataLoader(datasets.ImageFolder(val_path,\n",
    "                                                               transform=transforms.Compose([\n",
    "                                                                   transforms.ToTensor(),\n",
    "                                                                   transforms.Resize([224, 224]),\n",
    "                                                                   transforms.Normalize(mean=[0.485, 0.456, 0.406],\n",
    "                                                                                        std=[0.229, 0.224, 0.225])\n",
    "                                                               ])),batch_size=batch_size, shuffle=True,num_workers=4, pin_memory=True)\n"
   ]
  },
  {
   "cell_type": "code",
   "execution_count": 7,
   "id": "18a511c2-e5ec-46be-bf9d-4235339226aa",
   "metadata": {},
   "outputs": [],
   "source": [
    "classes = ['tench', 'springer', 'casette_player', 'chain_saw','church', 'French_horn', 'garbage_truck', 'gas_pump', 'golf_ball', 'parachute']\n"
   ]
  },
  {
   "cell_type": "code",
   "execution_count": 8,
   "id": "8505f8c7-1bd5-40a5-9b91-f4078adb72bc",
   "metadata": {},
   "outputs": [],
   "source": [
    "criterion = nn.CrossEntropyLoss(reduction=\"mean\").cuda()"
   ]
  },
  {
   "cell_type": "markdown",
   "id": "9bc259dd-3d78-42e2-aaf4-92d19d8a8fd1",
   "metadata": {},
   "source": [
    "## Sparsity"
   ]
  },
  {
   "cell_type": "code",
   "execution_count": 9,
   "id": "7dd74dab-860a-4ce7-a377-6a05f9e55dc9",
   "metadata": {},
   "outputs": [],
   "source": [
    "%run metrics.ipynb"
   ]
  },
  {
   "cell_type": "code",
   "execution_count": null,
   "id": "169eaab5-773b-4de8-ba4c-a7d3cfba6dfa",
   "metadata": {},
   "outputs": [],
   "source": [
    "MODEL_PATH = \"models/0_model_lt.pth.tar\"\n",
    "model = torch.load(MODEL_PATH, map_location=device, weights_only=False)\n",
    "model.to(device)\n",
    "\n",
    "sparse_saliency = filter_and_compute_sparsity(model, test_dataloader,\"Saliency\", device, resnet=True)\n",
    "print(\"The normal vanilla sparsity score is: \", sparse_saliency)\n",
    "\n",
    "sparse_ig =  filter_and_compute_sparsity(model, test_dataloader,\"IntegratedGradients\", device, resnet=True)\n",
    "print(\"The normal ig sparsity score is: \",sparse_ig)\n",
    "\n",
    "del model"
   ]
  },
  {
   "cell_type": "code",
   "execution_count": null,
   "id": "323ad21b-cf71-4115-8053-b15b22c90917",
   "metadata": {},
   "outputs": [],
   "source": [
    "MODEL_PATH = \"models/1_10_model_lt.pth.tar\"\n",
    "model = torch.load(MODEL_PATH, map_location=device, weights_only=False)\n",
    "model.to(device)\n",
    "\n",
    "sparse_saliency = filter_and_compute_sparsity(model, test_dataloader,\"Saliency\", device, resnet=True)\n",
    "print(\"The normal vanilla sparsity score is: \", sparse_saliency)\n",
    "\n",
    "sparse_ig =  filter_and_compute_sparsity(model, test_dataloader,\"IntegratedGradients\", device, resnet=True)\n",
    "print(\"The normal ig sparsity score is: \",sparse_ig)\n",
    "\n",
    "del model"
   ]
  },
  {
   "cell_type": "code",
   "execution_count": null,
   "id": "32eef581-06ff-41c1-9b24-999c634af0dd",
   "metadata": {},
   "outputs": [],
   "source": [
    "MODEL_PATH = \"models/1_model_lt.pth.tar\"\n",
    "model = torch.load(MODEL_PATH, map_location=device, weights_only=False)\n",
    "model.to(device)\n",
    "\n",
    "sparse_saliency = filter_and_compute_sparsity(model, test_dataloader,\"Saliency\", device, resnet=True)\n",
    "print(\"The normal vanilla sparsity score is: \", sparse_saliency)\n",
    "\n",
    "sparse_ig =  filter_and_compute_sparsity(model, test_dataloader,\"IntegratedGradients\", device, resnet=True)\n",
    "print(\"The normal ig sparsity score is: \",sparse_ig)\n",
    "\n",
    "del model"
   ]
  },
  {
   "cell_type": "code",
   "execution_count": null,
   "id": "6e08941d-cc54-41d6-91af-9f61c52a5679",
   "metadata": {},
   "outputs": [],
   "source": [
    "MODEL_PATH = \"models/2_model_lt.pth.tar\"\n",
    "model = torch.load(MODEL_PATH, map_location=device, weights_only=False)\n",
    "model.to(device)\n",
    "\n",
    "sparse_saliency = filter_and_compute_sparsity(model, test_dataloader,\"Saliency\", device, resnet=True)\n",
    "print(\"The normal vanilla sparsity score is: \", sparse_saliency)\n",
    "\n",
    "sparse_ig =  filter_and_compute_sparsity(model, test_dataloader,\"IntegratedGradients\", device, resnet=True)\n",
    "print(\"The normal ig sparsity score is: \",sparse_ig)\n",
    "\n",
    "del model"
   ]
  },
  {
   "cell_type": "code",
   "execution_count": null,
   "id": "5bce3d45-7a49-4097-bffe-546e940818ac",
   "metadata": {},
   "outputs": [],
   "source": [
    "MODEL_PATH = \"models/12_model_lt.pth.tar\"\n",
    "model = torch.load(MODEL_PATH, map_location=device, weights_only=False)\n",
    "model.to(device)\n",
    "\n",
    "sparse_saliency = filter_and_compute_sparsity(model, test_dataloader,\"Saliency\", device, resnet=True)\n",
    "print(\"The normal vanilla sparsity score is: \", sparse_saliency)\n",
    "\n",
    "sparse_ig =  filter_and_compute_sparsity(model, test_dataloader,\"IntegratedGradients\", device, resnet=True)\n",
    "print(\"The normal ig sparsity score is: \",sparse_ig)\n",
    "\n",
    "del model"
   ]
  },
  {
   "cell_type": "code",
   "execution_count": null,
   "id": "f60c7de8-abf8-4cfa-925a-d08190b40a50",
   "metadata": {},
   "outputs": [],
   "source": [
    "MODEL_PATH = \"models/29_model_lt.pth.tar\"\n",
    "model = torch.load(MODEL_PATH, map_location=device, weights_only=False)\n",
    "model.to(device)\n",
    "\n",
    "sparse_saliency = filter_and_compute_sparsity(model, test_dataloader,\"Saliency\", device, resnet=True)\n",
    "print(\"The normal vanilla sparsity score is: \", sparse_saliency)\n",
    "\n",
    "sparse_ig =  filter_and_compute_sparsity(model, test_dataloader,\"IntegratedGradients\", device, resnet=True)\n",
    "print(\"The normal ig sparsity score is: \",sparse_ig)\n",
    "\n",
    "del model"
   ]
  },
  {
   "cell_type": "code",
   "execution_count": 10,
   "id": "c453eea1-caa5-4ae5-816c-40ce67b6c16a",
   "metadata": {},
   "outputs": [],
   "source": [
    "normal_sparse_saliency = 0.4225200890204471\n",
    "normal_sparse_ig = 0.5886364333326195\n",
    "\n",
    "prune_10_sparse_saliency = 0.46837122128811204\n",
    "prune_10_sparse_ig = 0.6066886995654848\n",
    "\n",
    "prune_20_sparse_saliency = 0.45473032477062864\n",
    "prune_20_sparse_ig = 0.6112264423854529\n",
    "\n",
    "prune_30_sparse_saliency = 0.4541549643816636\n",
    "prune_30_sparse_ig = 0.6093546384460925\n",
    "\n",
    "prune_50_sparse_saliency =0.44388624278818267\n",
    "prune_50_sparse_ig = 0.5999048563523421\n",
    "\n",
    "prune_70_sparse_saliency = 0.4480548349520132\n",
    "prune_70_sparse_ig = 0.595999840949814"
   ]
  },
  {
   "cell_type": "code",
   "execution_count": 11,
   "id": "33e9742e-7918-40a8-94c8-d3530f1f3caf",
   "metadata": {},
   "outputs": [
    {
     "data": {
      "text/html": [
       "<style type=\"text/css\">\n",
       "#T_57ead th {\n",
       "  border: 1px solid black;\n",
       "}\n",
       "#T_57ead  td {\n",
       "  border: 1px solid black;\n",
       "}\n",
       "</style>\n",
       "<table id=\"T_57ead\">\n",
       "  <thead>\n",
       "    <tr>\n",
       "      <th class=\"blank level0\" >&nbsp;</th>\n",
       "      <th id=\"T_57ead_level0_col0\" class=\"col_heading level0 col0\" >Vanilla Gradient</th>\n",
       "      <th id=\"T_57ead_level0_col1\" class=\"col_heading level0 col1\" >Integrated Gradients</th>\n",
       "    </tr>\n",
       "  </thead>\n",
       "  <tbody>\n",
       "    <tr>\n",
       "      <th id=\"T_57ead_level0_row0\" class=\"row_heading level0 row0\" >Normal Model</th>\n",
       "      <td id=\"T_57ead_row0_col0\" class=\"data row0 col0\" >0.422520</td>\n",
       "      <td id=\"T_57ead_row0_col1\" class=\"data row0 col1\" >0.588636</td>\n",
       "    </tr>\n",
       "    <tr>\n",
       "      <th id=\"T_57ead_level0_row1\" class=\"row_heading level0 row1\" >Pruned 10%</th>\n",
       "      <td id=\"T_57ead_row1_col0\" class=\"data row1 col0\" >0.468371</td>\n",
       "      <td id=\"T_57ead_row1_col1\" class=\"data row1 col1\" >0.606689</td>\n",
       "    </tr>\n",
       "    <tr>\n",
       "      <th id=\"T_57ead_level0_row2\" class=\"row_heading level0 row2\" >Pruned 20%</th>\n",
       "      <td id=\"T_57ead_row2_col0\" class=\"data row2 col0\" >0.454730</td>\n",
       "      <td id=\"T_57ead_row2_col1\" class=\"data row2 col1\" >0.611226</td>\n",
       "    </tr>\n",
       "    <tr>\n",
       "      <th id=\"T_57ead_level0_row3\" class=\"row_heading level0 row3\" >Pruned 30%</th>\n",
       "      <td id=\"T_57ead_row3_col0\" class=\"data row3 col0\" >0.454155</td>\n",
       "      <td id=\"T_57ead_row3_col1\" class=\"data row3 col1\" >0.609355</td>\n",
       "    </tr>\n",
       "    <tr>\n",
       "      <th id=\"T_57ead_level0_row4\" class=\"row_heading level0 row4\" >Pruned 50%</th>\n",
       "      <td id=\"T_57ead_row4_col0\" class=\"data row4 col0\" >0.443886</td>\n",
       "      <td id=\"T_57ead_row4_col1\" class=\"data row4 col1\" >0.599905</td>\n",
       "    </tr>\n",
       "    <tr>\n",
       "      <th id=\"T_57ead_level0_row5\" class=\"row_heading level0 row5\" >Pruned 70%</th>\n",
       "      <td id=\"T_57ead_row5_col0\" class=\"data row5 col0\" >0.448055</td>\n",
       "      <td id=\"T_57ead_row5_col1\" class=\"data row5 col1\" >0.596000</td>\n",
       "    </tr>\n",
       "  </tbody>\n",
       "</table>\n"
      ],
      "text/plain": [
       "<pandas.io.formats.style.Styler at 0x1e44fe4ba10>"
      ]
     },
     "execution_count": 11,
     "metadata": {},
     "output_type": "execute_result"
    }
   ],
   "source": [
    "vanilla_gradient = [normal_sparse_saliency, prune_10_sparse_saliency, prune_20_sparse_saliency, prune_30_sparse_saliency, prune_50_sparse_saliency,prune_70_sparse_saliency ]\n",
    "integrated_gradients = [normal_sparse_ig, prune_10_sparse_ig, prune_20_sparse_ig, prune_30_sparse_ig, prune_50_sparse_ig,prune_70_sparse_ig ]\n",
    "\n",
    "row_labels = [\"Normal Model\", \"Pruned 10%\", \"Pruned 20%\", \"Pruned 30%\",\"Pruned 50%\", \"Pruned 70%\"]\n",
    "\n",
    "data = {\n",
    "    \"Vanilla Gradient\": vanilla_gradient,\n",
    "    \"Integrated Gradients\": integrated_gradients\n",
    "}\n",
    "\n",
    "df = pd.DataFrame(data, index = row_labels)\n",
    "\n",
    "df.style.set_table_styles(\n",
    "    [{'selector': 'th, td', 'props': [('border', '1px solid black')]}])"
   ]
  },
  {
   "cell_type": "code",
   "execution_count": null,
   "id": "0f8fb1a4-6308-45e2-80e6-383bedc7061c",
   "metadata": {},
   "outputs": [],
   "source": []
  }
 ],
 "metadata": {
  "kernelspec": {
   "display_name": "Python 3 (ipykernel)",
   "language": "python",
   "name": "python3"
  },
  "language_info": {
   "codemirror_mode": {
    "name": "ipython",
    "version": 3
   },
   "file_extension": ".py",
   "mimetype": "text/x-python",
   "name": "python",
   "nbconvert_exporter": "python",
   "pygments_lexer": "ipython3",
   "version": "3.13.5"
  }
 },
 "nbformat": 4,
 "nbformat_minor": 5
}
