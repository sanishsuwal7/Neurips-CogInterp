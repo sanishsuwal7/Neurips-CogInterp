{
 "cells": [
  {
   "cell_type": "code",
   "execution_count": 1,
   "id": "f4d93fb3-9f59-4cb5-b28e-4c70541e825e",
   "metadata": {},
   "outputs": [],
   "source": [
    "import os\n",
    "import sys\n",
    "parent_dir = os.path.abspath(os.path.join(os.getcwd(), 'resnet'))\n",
    "sys.path.append(parent_dir)\n",
    "\n",
    "from tqdm import tqdm\n",
    "from ranger import Ranger\n",
    "\n",
    "import torch\n",
    "from torch import nn\n",
    "import torch.nn as nn\n",
    "import torch.nn.functional as F\n",
    "from torch.utils.data import DataLoader\n",
    "import torch.nn.utils.prune as prune\n",
    "import torch.nn.init as init\n",
    "\n",
    "import torchvision\n",
    "from torchvision import datasets\n",
    "from torchvision import transforms\n",
    "from torchvision.transforms import Normalize\n",
    "from torchmetrics import Accuracy\n",
    "import torchvision.utils as vutils\n",
    "\n",
    "import torch.optim as optim\n",
    "\n",
    "import pandas as pd\n",
    "import numpy as np\n",
    "import matplotlib.pyplot as plt\n",
    "import seaborn as sns\n",
    "\n",
    "import pickle\n",
    "import random\n",
    "import copy\n",
    "import gc\n",
    "\n",
    "import warnings\n",
    "warnings.filterwarnings('ignore')\n",
    "\n",
    "from resnet_18 import *"
   ]
  },
  {
   "cell_type": "code",
   "execution_count": 2,
   "id": "5411ae1a-40b6-4acd-aa88-0b34cdeb5fd0",
   "metadata": {},
   "outputs": [],
   "source": [
    "%run utils.ipynb"
   ]
  },
  {
   "cell_type": "code",
   "execution_count": 3,
   "id": "96559a2f-7593-42a5-a442-e37dbf157f4c",
   "metadata": {},
   "outputs": [],
   "source": [
    "sns.set_style('darkgrid')"
   ]
  },
  {
   "cell_type": "code",
   "execution_count": 4,
   "id": "7592ddb0-dec1-4d6e-aa08-a3876b344ce3",
   "metadata": {},
   "outputs": [
    {
     "name": "stdout",
     "output_type": "stream",
     "text": [
      "True\n"
     ]
    }
   ],
   "source": [
    "print(torch.cuda.is_available())"
   ]
  },
  {
   "cell_type": "code",
   "execution_count": 5,
   "id": "2365d6a1-7d8e-49ef-9e7b-4890baeac873",
   "metadata": {},
   "outputs": [],
   "source": [
    "device = torch.device(\"cuda\" if torch.cuda.is_available() else \"cpu\")"
   ]
  },
  {
   "cell_type": "code",
   "execution_count": 6,
   "id": "f46c8c15-3d03-4743-b01e-c187a67bdb26",
   "metadata": {},
   "outputs": [],
   "source": [
    "batch_size = 128\n",
    "train_path = '../datasets/imagenette2/train'\n",
    "val_path = '../datasets/imagenette2/val'"
   ]
  },
  {
   "cell_type": "code",
   "execution_count": 7,
   "id": "d343f9cc-2a33-49ff-bd6f-687aba9eddee",
   "metadata": {},
   "outputs": [],
   "source": [
    "train_dataloader = DataLoader(datasets.ImageFolder(train_path, transform = transforms.Compose([\n",
    "                                                                    transforms.RandomResizedCrop(224),\n",
    "                                                                    transforms.RandomHorizontalFlip(),\n",
    "                                                                    transforms.ToTensor(),\n",
    "                                                                    transforms.Normalize(mean=[0.485, 0.456, 0.406],\n",
    "                                                                                        std=[0.229, 0.224, 0.225])\n",
    "                                                            ])), batch_size = batch_size, shuffle=True, num_workers=5, pin_memory=True)\n",
    "\n",
    "test_dataloader = DataLoader(datasets.ImageFolder(val_path,\n",
    "                                                               transform=transforms.Compose([\n",
    "                                                                   transforms.ToTensor(),\n",
    "                                                                   transforms.Resize([224, 224]),\n",
    "                                                                   transforms.Normalize(mean=[0.485, 0.456, 0.406],\n",
    "                                                                                        std=[0.229, 0.224, 0.225])\n",
    "                                                               ])),batch_size=batch_size, shuffle=False, num_workers=5, pin_memory=True)"
   ]
  },
  {
   "cell_type": "code",
   "execution_count": 8,
   "id": "78be8633-7e41-43e7-af82-7ccf6fef1fe0",
   "metadata": {},
   "outputs": [],
   "source": [
    "classes = ('tench', 'springer', 'casette_player', 'chain_saw','church', 'French_horn', 'garbage_truck', 'gas_pump', 'golf_ball', 'parachute')\n"
   ]
  },
  {
   "cell_type": "code",
   "execution_count": 9,
   "id": "fd13e745-4cfd-4132-9343-0494ca84a294",
   "metadata": {},
   "outputs": [],
   "source": [
    "model = resnet_18(pretrained=False, filter='None', filter_layer=0).to(device)\n",
    "# Set the initial learning rate for the optimizer.\n",
    "learning_rate = 1e-3\n",
    "# Define the starting iteration for training\n",
    "start_iteration = 0\n",
    "# Set the total number of training iterations.\n",
    "end_iteration = 30\n",
    "# Specify how often to print training progress.\n",
    "print_frequency = 1\n",
    "# Specify how often to run validation.\n",
    "valid_frequency = 1\n",
    "# Set the percentage of weights to remove in each round of pruning.\n",
    "prune_percent = 20\n",
    "# Define the number of iterative pruning cycles to perform.\n",
    "prune_iterations = 30\n"
   ]
  },
  {
   "cell_type": "code",
   "execution_count": 10,
   "id": "b02e0e46-84c5-4bcc-b65a-bb3b560a2bb2",
   "metadata": {},
   "outputs": [],
   "source": [
    "# copy initial state dict\n",
    "initial_state_dict = copy.deepcopy(model.state_dict())\n",
    "# check or create the directory\n",
    "checkdir(f\"{os.getcwd()}/models/\")\n",
    "# Save initial state dict\n",
    "torch.save(model, f\"{os.getcwd()}/models/initial_state_dict_lt.pth.tar\")"
   ]
  },
  {
   "cell_type": "code",
   "execution_count": 11,
   "id": "b150d6e1-26e6-40f1-9e13-b6471283cff3",
   "metadata": {},
   "outputs": [],
   "source": [
    "mask = generate_mask(model)"
   ]
  },
  {
   "cell_type": "code",
   "execution_count": 12,
   "id": "65f97a4a-b344-42ef-aad6-fb8830db7e3b",
   "metadata": {},
   "outputs": [
    {
     "name": "stdout",
     "output_type": "stream",
     "text": [
      "Ranger optimizer loaded. \n",
      "Gradient Centralization usage = True\n",
      "GC applied to both conv and fc layers\n"
     ]
    }
   ],
   "source": [
    "# Loss function\n",
    "criterion = nn.CrossEntropyLoss(reduction=\"mean\").cuda()\n",
    "# ranger optimizer\n",
    "optimizer = Ranger(model.parameters(),lr = learning_rate, weight_decay=1e-4, eps = 1e-06)\n",
    "# Cosine Scheduler for learning rate\n",
    "scheduler = torch.optim.lr_scheduler.CosineAnnealingLR(optimizer, T_max=end_iteration)"
   ]
  },
  {
   "cell_type": "code",
   "execution_count": 13,
   "id": "872e24ac-ae2e-4bd4-9a92-92b0dc3cd36e",
   "metadata": {},
   "outputs": [],
   "source": [
    "# tracks best accuracy\n",
    "best_accuracy = 0\n",
    "# Stores the best validation accuracy achieved after each pruning and retraining cycle.\n",
    "best_accuracies = np.zeros(prune_iterations,float)\n",
    "step = 0"
   ]
  },
  {
   "cell_type": "code",
   "execution_count": null,
   "id": "618a24fd-115b-420c-88d4-2af28937d258",
   "metadata": {},
   "outputs": [],
   "source": [
    "# This loop performs the full cycle of pruning, rewinding weights, and retraining for `prune_iterations` rounds.\n",
    "for prune_iter in range(start_iteration, prune_iterations):\n",
    "    # The first iteration trains the full, unpruned network to establish a baseline.\n",
    "    if not prune_iter == 0:\n",
    "        # Prune the model by removing a 'prune_percent' of the weights with the smallest magnitudes.\n",
    "        mask = prune_network(prune_percent,mask, model)\n",
    "\n",
    "        # resets the remaining (unpruned) weights back to their original values from before training started.\n",
    "        original_initialization(mask,model, initial_state_dict)\n",
    "\n",
    "        # Re-initialize the optimizer.\n",
    "        optimizer = Ranger(model.parameters(), lr=learning_rate, weight_decay=1e-4, eps = 1e-06)\n",
    "        \n",
    "    print(f\"\\nPruning Level ({prune_iter}/{prune_iterations}):\")\n",
    "\n",
    "    # Print the table of Nonzeros in each layer\n",
    "    print_nonzeros(model)\n",
    "    progress_bar = tqdm(range(end_iteration))\n",
    "\n",
    "    # Inner Training Loop for one pruning iteration\n",
    "    for iteration in progress_bar:\n",
    "        # Evaluate the model on the test set at the frequency defined by `valid_frequency`.\n",
    "        if iteration % valid_frequency == 0:\n",
    "            accuracy = test(model, test_dataloader, criterion)\n",
    "\n",
    "            # Check if the current accuracy is the best one in this pruning iteration.\n",
    "            if accuracy > best_accuracy:\n",
    "                best_accuracy = accuracy\n",
    "                checkdir(f\"{os.getcwd()}/models/\")\n",
    "                # Save the best performing model for this pruning iteration.\n",
    "                torch.save(model,f\"{os.getcwd()}/models/{prune_iter}_model_lt.pth.tar\")\n",
    "\n",
    "        # Perform one epoch of training.\n",
    "        loss = train(model, train_dataloader, optimizer, criterion,scheduler)\n",
    "        \n",
    "        # Update the progress bar description at the frequency defined by `print_frequency`.\n",
    "        if iteration % print_frequency == 0:\n",
    "            progress_bar.set_description(\n",
    "                f'Train Epoch: {iteration}/{end_iteration} Loss: {loss:.6f} Accuracy: {accuracy:.2f}% Best Accuracy: {best_accuracy:.2f}%')       \n",
    "\n",
    "    # After retraining is complete, store the best accuracy achieved during this run.\n",
    "    best_accuracies[prune_iter]=best_accuracy\n",
    "    \n",
    "    # Reset tracking variables for the next pruning iteration.\n",
    "    best_accuracy = 0    "
   ]
  },
  {
   "cell_type": "code",
   "execution_count": null,
   "id": "56e9ab49-8ac4-45ec-a195-e9f0a138b08f",
   "metadata": {},
   "outputs": [],
   "source": []
  }
 ],
 "metadata": {
  "kernelspec": {
   "display_name": "Python 3 (ipykernel)",
   "language": "python",
   "name": "python3"
  },
  "language_info": {
   "codemirror_mode": {
    "name": "ipython",
    "version": 3
   },
   "file_extension": ".py",
   "mimetype": "text/x-python",
   "name": "python",
   "nbconvert_exporter": "python",
   "pygments_lexer": "ipython3",
   "version": "3.13.5"
  }
 },
 "nbformat": 4,
 "nbformat_minor": 5
}
