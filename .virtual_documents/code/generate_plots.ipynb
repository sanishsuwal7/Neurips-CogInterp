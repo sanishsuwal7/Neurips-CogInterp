import torch
from torch import nn
import torch.nn as nn
import torch.nn.functional as F
from torch.utils.data import DataLoader
import torch.nn.utils.prune as prune

import torchvision
from torchvision import datasets
from torchvision import transforms
from torchmetrics import Accuracy

import torch.optim as optim
import quantus
import captum
from captum.attr import Saliency, IntegratedGradients, NoiseTunnel

import pandas as pd
import numpy as np
import matplotlib.pyplot as plt

import random
import copy
import gc
import math

import warnings
warnings.filterwarnings('ignore')

from pathlib import Path

import matplotlib.pyplot as plt
%matplotlib inline

from resnet_18 import *

from scipy.integrate import simpson




print(torch.cuda.is_available())


device = torch.device("cuda" if torch.cuda.is_available() else "cpu")


%run utils.ipynb


batch_size = 8
train_path = '../datasets/imagenette2/train'
val_path = '../datasets/imagenette2/val'


train_dataloader = DataLoader(datasets.ImageFolder(train_path, transform = transforms.Compose([
                                                                    transforms.RandomResizedCrop(224),
                                                                    transforms.RandomHorizontalFlip(),
                                                                    transforms.ToTensor(),
                                                                    transforms.Normalize(mean=[0.485, 0.456, 0.406],
                                                                                        std=[0.229, 0.224, 0.225])
                                                            ])), batch_size = batch_size, shuffle=True, num_workers=4, pin_memory=True)

test_dataloader = DataLoader(datasets.ImageFolder(val_path,
                                                               transform=transforms.Compose([
                                                                   transforms.ToTensor(),
                                                                   transforms.Resize([224, 224]),
                                                                   transforms.Normalize(mean=[0.485, 0.456, 0.406],
                                                                                        std=[0.229, 0.224, 0.225])
                                                               ])),batch_size=batch_size, shuffle=True,num_workers=4, pin_memory=True)



classes = ['tench', 'springer', 'casette_player', 'chain_saw','church', 'French_horn', 'garbage_truck', 'gas_pump', 'golf_ball', 'parachute']



criterion = nn.CrossEntropyLoss(reduction="mean").cuda()


%run metrics.ipynb








# Accuracy values
model_accuracy = [
    84.15,
    83.08,
    84.31,
    85.58,
    84.41,
    83.49
]
pruning_percentages = [0, 10, 20, 30, 50, 70]

df = pd.DataFrame({
    'Pruning Percentage': pruning_percentages,
    'Accuracy': model_accuracy
})

# Create the plot
fig, ax = plt.subplots(figsize=(6,3))
ax.plot(df['Pruning Percentage'], df['Accuracy'], marker='o', linestyle='-')

# Add titles and labels
ax.set_xlabel('Pruning Percentage (%)', fontsize=15)
ax.set_ylabel('Accuracy',fontsize=15)
ax.grid(True, which='both', linestyle='--', linewidth=0.5)

# Save the figure to a file
plt.savefig("plots/PRUNING_VS_ACCURACY.pdf", format="pdf", dpi=300, bbox_inches="tight")
plt.show()








# Sparsity values
sparsity_values = [
    0.4225200890204471,
    0.46837122128811204,
    0.45473032477062864,
    0.4541549643816636,
    0.44388624278818267,
    0.4480548349520132
]
pruning_percentages = [0, 10, 20, 30, 50, 70]

df = pd.DataFrame({
    'Pruning Percentage': pruning_percentages,
    'Sparsity': sparsity_values
})

# Create the plot
fig, ax = plt.subplots(figsize=(6,3))
ax.plot(df['Pruning Percentage'], df['Sparsity'], marker='o', linestyle='-')

# Add titles and labels
ax.set_xlabel('Pruning Percentage (%)',fontsize=15)
ax.set_ylabel('Sparsity',fontsize=15)
ax.grid(True, which='both', linestyle='--', linewidth=0.5)

# Save the figure to a file
plt.savefig("plots/PRUNING_VS_SPARSITY_VANILLA_GRADIENT.pdf", format="pdf", dpi=300, bbox_inches="tight")
plt.show()





# Sparsity values
sparsity_values = [
    0.5886364333326195,
    0.6066886995654848,
    0.6112264423854529,
    0.6093546384460925,
    0.5999048563523421,
    0.595999840949814
]
pruning_percentages = [0, 10, 20, 30, 50, 70]

df = pd.DataFrame({
    'Pruning Percentage': pruning_percentages,
    'Sparsity': sparsity_values
})

# Create the plot 
fig, ax = plt.subplots(figsize=(6,3))
ax.plot(df['Pruning Percentage'], df['Sparsity'], marker='o', linestyle='-')

# Add titles and labels
ax.set_xlabel('Pruning Percentage (%)',fontsize=15)
ax.set_ylabel('Sparsity',fontsize=15)
ax.grid(True, which='both', linestyle='--', linewidth=0.5)

# Save the figure to a file
plt.savefig("plots/PRUNING_VS_SPARSITY_IG.pdf", format="pdf", dpi=300, bbox_inches="tight")
plt.show()





result_normal = {1: np.float64(0.9854187562209861), 11: np.float64(0.9302623147929386), 21: np.float64(0.8855254694918366), 31: np.float64(0.8275752431472999), 41: np.float64(0.7686531744591676), 51: np.float64(0.7003263311118203), 61: np.float64(0.6167151750011796), 71: np.float64(0.5189097090335428), 81: np.float64(0.41946263606951006), 91: np.float64(0.30242259808422944)}

result_10 = {1: np.float64(0.9799208963778208), 11: np.float64(0.9136983714162727), 21: np.float64(0.8637160553598301), 31: np.float64(0.8006494027445334), 41: np.float64(0.7237594767473243), 51: np.float64(0.6276571377706955), 61: np.float64(0.5362060711547837), 71: np.float64(0.43228985890760535), 81: np.float64(0.3291858131864658), 91: np.float64(0.25164405727791406)}

result_20 = {1: np.float64(0.9815317446919453), 11: np.float64(0.916264309570018), 21: np.float64(0.8550035656800294), 31: np.float64(0.78959464373224), 41: np.float64(0.7143713719788255), 51: np.float64(0.6170017447664645), 61: np.float64(0.535769578517576), 71: np.float64(0.440189077713297), 81: np.float64(0.34097142622121834), 91: np.float64(0.2647278476711539)}

result_30 = {1: np.float64(0.9820257658315142), 11: np.float64(0.9274665111306769), 21: np.float64(0.8728924914795306), 31: np.float64(0.8038201046585481), 41: np.float64(0.7230428491972497), 51: np.float64(0.6394828207378183), 61: np.float64(0.5341273658014597), 71: np.float64(0.42564235011338775), 81: np.float64(0.33250923822599016), 91: np.float64(0.24350088953506518)}

result_50 =  {1: np.float64(0.9835630670525478), 11: np.float64(0.9342213103810895), 21: np.float64(0.8821054857545466), 31: np.float64(0.8255040473880926), 41: np.float64(0.7546564625140637), 51: np.float64(0.6619870188715149), 61: np.float64(0.5630498173438654), 71: np.float64(0.46577110960962625), 81: np.float64(0.3588333885456528), 91: np.float64(0.25681642034993374)}

result_70 = {1: np.float64(0.9860395021377726), 11: np.float64(0.9380568182055771), 21: np.float64(0.8859509869049661), 31: np.float64(0.8254678674765173), 41: np.float64(0.7475342621319393), 51: np.float64(0.651121103479216), 61: np.float64(0.5477292968705794), 71: np.float64(0.446885111033178), 81: np.float64(0.34203169419053664), 91: np.float64(0.24484063846912646)}



import matplotlib.pyplot as plt
import pandas as pd

# Plot setup
fig, ax = plt.subplots(figsize=(6, 4))

ax.plot(list(result_normal.keys()),list(result_normal.values()), label='Normal', linestyle='-', marker='o', linewidth=2)
ax.plot(list(result_normal.keys()), list(result_10.values()), label='Prune 10%', linestyle='--', marker='^', linewidth=2)
ax.plot(list(result_normal.keys()), list(result_20.values()), label='Prune 20%', linestyle='--', marker='*', linewidth=2)
ax.plot(list(result_normal.keys()), list(result_30.values()), label='Prune 30%', linestyle='--', marker='v', linewidth=2)
ax.plot(list(result_normal.keys()), list(result_50.values()), label='Prune 50%', linestyle='--', marker='>', linewidth=2)
ax.plot(list(result_normal.keys()), list(result_70.values()), label='Prune 70%', linestyle='--', marker='<', linewidth=2)

# Customize the plot
ax.set_xlabel('% of Features Removed', fontsize=15)
ax.set_ylabel('Accuracy', fontsize=15)
ax.legend(fontsize=12)

# Grid and ticks
ax.grid(True, which='both', linestyle='--', linewidth=0.5)
ax.tick_params(axis='both', which='major', labelsize=12)

plt.savefig("plots/RESNET_IMAGENETTE_VANILLA_SALIENCY_ROAD.pdf", format="pdf", dpi=300, bbox_inches="tight")
plt.show()





result_normal = {1: np.float64(0.9048034896353556), 11: np.float64(0.5851716567383309), 21: np.float64(0.48174972029386187), 31: np.float64(0.43065448388953154), 41: np.float64(0.41099453848264444), 51: np.float64(0.4022945736242714), 61: np.float64(0.40349411430692994), 71: np.float64(0.3992419434778381), 81: np.float64(0.38751554111192377), 91: np.float64(0.36931648572646114)}

result_10 = {1: np.float64(0.9106019050704163), 11: np.float64(0.6370652347229288), 21: np.float64(0.5292883736882674), 31: np.float64(0.469834722242029), 41: np.float64(0.4428064776317445), 51: np.float64(0.430196778213536), 61: np.float64(0.4180790938932867), 71: np.float64(0.4019877635837459), 81: np.float64(0.3739066732596528), 91: np.float64(0.36132131354264707)}

result_20 = {1: np.float64(0.914464156488918), 11: np.float64(0.6177693066851432), 21: np.float64(0.5074044765914646), 31: np.float64(0.4579566447226366), 41: np.float64(0.42852525012314735), 51: np.float64(0.41285738927327154), 61: np.float64(0.4036703871257904), 71: np.float64(0.3797259149649644), 81: np.float64(0.36031639720444925), 91: np.float64(0.3553198070644497)}

result_30 = {1: np.float64(0.9117126832168038), 11: np.float64(0.6108150782486305), 21: np.float64(0.49129115528001305), 31: np.float64(0.4400756087788278), 41: np.float64(0.4147620748927573), 51: np.float64(0.3989348112034861), 61: np.float64(0.3885854063894605), 71: np.float64(0.37532922239883865), 81: np.float64(0.3546586037016312), 91: np.float64(0.325092860286195)}

result_50 =  {1: np.float64(0.912658972967999), 11: np.float64(0.5844360275252604), 21: np.float64(0.4688511991448438), 31: np.float64(0.42080869582608155), 41: np.float64(0.39631862966125053), 51: np.float64(0.38647027763674896), 61: np.float64(0.3823260971174655), 71: np.float64(0.37477645336761517), 81: np.float64(0.3510539732950092), 91: np.float64(0.3378118895100574)}

result_70 = {1: np.float64(0.8977173949500497), 11: np.float64(0.5563271442548129), 21: np.float64(0.43342334245418135), 31: np.float64(0.3751276211680372), 41: np.float64(0.3504331182397376), 51: np.float64(0.34614148262930633), 61: np.float64(0.3399125467319639), 71: np.float64(0.3303916749867213), 81: np.float64(0.331922176294959), 91: np.float64(0.3251365009124893)}



import matplotlib.pyplot as plt
import pandas as pd

# Plot setup
fig, ax = plt.subplots(figsize=(6, 4))

ax.plot(list(result_normal.keys()),list(result_normal.values()), label='Normal', linestyle='-', marker='o', linewidth=2)
ax.plot(list(result_normal.keys()), list(result_10.values()), label='Prune 10%', linestyle='--', marker='^', linewidth=2)
ax.plot(list(result_normal.keys()), list(result_20.values()), label='Prune 20%', linestyle='--', marker='*', linewidth=2)
ax.plot(list(result_normal.keys()), list(result_30.values()), label='Prune 30%', linestyle='--', marker='v', linewidth=2)
ax.plot(list(result_normal.keys()), list(result_50.values()), label='Prune 50%', linestyle='--', marker='>', linewidth=2)
ax.plot(list(result_normal.keys()), list(result_70.values()), label='Prune 70%', linestyle='--', marker='<', linewidth=2)

# Customize the plot
ax.set_xlabel('% of Features Removed', fontsize=15)
ax.set_ylabel('Accuracy', fontsize=15)
ax.legend(fontsize=12)

# Grid and ticks
ax.grid(True, which='both', linestyle='--', linewidth=0.5)
ax.tick_params(axis='both', which='major', labelsize=12)

plt.savefig("plots/RESNET_IMAGENETTE_IG_SALIENCY_ROAD.pdf", format="pdf", dpi=300, bbox_inches="tight")
plt.show()





result_normal = {1: 0.9854187562209861, 11: 0.9302623147929386, 21: 0.8855254694918366, 31: 0.8275752431472999, 41: 0.7686531744591676, 51: 0.7003263311118203, 61:0.6167151750011796, 71: 0.5189097090335428, 81: 0.41946263606951006, 91: 0.30242259808422944}

result_10 = {1: 0.9799208963778208, 11: 0.9136983714162727, 21: 0.8637160553598301, 31: 0.8006494027445334, 41: 0.7237594767473243, 51:0.6276571377706955, 61: 0.5362060711547837, 71: 0.43228985890760535, 81:0.3291858131864658, 91: 0.25164405727791406}

result_20 = {1: 0.9815317446919453, 11: 0.916264309570018, 21: 0.8550035656800294, 31: 0.78959464373224, 41: 0.7143713719788255, 51: 0.6170017447664645, 61: 0.535769578517576, 71: 0.440189077713297, 81: 0.34097142622121834, 91: 0.2647278476711539}

result_30 = {1: 0.9820257658315142, 11:0.9274665111306769, 21: 0.8728924914795306, 31: 0.8038201046585481, 41: 0.7230428491972497, 51: 0.6394828207378183, 61: 0.5341273658014597, 71: 0.42564235011338775, 81: 0.33250923822599016, 91: 0.24350088953506518}

result_50 =  {1: 0.9835630670525478, 11: 0.9342213103810895, 21: 0.8821054857545466, 31: 0.8255040473880926, 41: 0.7546564625140637, 51: 0.6619870188715149, 61: 0.5630498173438654, 71: 0.46577110960962625, 81: 0.3588333885456528, 91:0.25681642034993374}

result_70 = {1:0.9860395021377726, 11: 0.9380568182055771, 21: 0.8859509869049661, 31: 0.8254678674765173, 41: 0.7475342621319393, 51: 0.651121103479216, 61: 0.5477292968705794, 71: 0.446885111033178, 81: 0.34203169419053664, 91:0.24484063846912646}

models = {
    "normal": result_normal,
    "pruned_10": result_10,
    "pruned_20": result_20,
    "pruned_30": result_30,
    "pruned_50":result_50,
    "pruned_70": result_70,
}

result_aopc = compute_aopc_morf(models)
print(result_aopc)





# AOPC values 
aopc_values = [
    0.263538,
    0.303680,
    0.305445,
    0.303250,
    0.286284,
    0.294976
]
pruning_percentages = [0, 10, 20, 30, 50, 70]

# Create a DataFrame
df = pd.DataFrame({
    'Pruning Percentage': pruning_percentages,
    'AOPC': aopc_values
})

# Create the plot
fig, ax = plt.subplots(figsize=(6,3))
ax.plot(df['Pruning Percentage'], df['AOPC'], marker='o', linestyle='-')

# Add titles and labels
ax.set_xlabel('Pruning Percentage (%)',fontsize=15)
ax.set_ylabel('AOPC',fontsize=15)
ax.grid(True, which='both', linestyle='--', linewidth=0.5)

# Save the figure to a file
plt.savefig("plots/PRUNING_VS_AOPC_VANILLA_GRADIENT.pdf", format="pdf", dpi=300, bbox_inches="tight")
plt.show()





result_normal = {1: 0.9048034896353556, 11: 0.5851716567383309, 21: 0.48174972029386187, 31: 0.43065448388953154, 41:0.41099453848264444, 51: 0.4022945736242714, 61: 0.40349411430692994, 71: 0.3992419434778381, 81: 0.38751554111192377, 91: 0.36931648572646114}

result_10 = {1: 0.9106019050704163, 11: 0.6370652347229288, 21: 0.5292883736882674, 31: 0.469834722242029, 41: 0.4428064776317445, 51: 0.430196778213536, 61: 0.4180790938932867, 71: 0.4019877635837459, 81: 0.3739066732596528, 91: 0.36132131354264707}

result_20 = {1: 0.914464156488918, 11: 0.6177693066851432, 21: 0.5074044765914646, 31: 0.4579566447226366, 41: 0.42852525012314735, 51: 0.41285738927327154, 61: 0.4036703871257904, 71: 0.3797259149649644, 81: 0.36031639720444925, 91: 0.3553198070644497}

result_30 = {1: 0.9117126832168038, 11: 0.6108150782486305, 21: 0.49129115528001305, 31: 0.4400756087788278, 41: 0.4147620748927573, 51: 0.3989348112034861, 61: 0.3885854063894605, 71: 0.37532922239883865, 81: 0.3546586037016312, 91: 0.325092860286195}

result_50 =  {1: 0.912658972967999, 11: 0.5844360275252604, 21: 0.4688511991448438, 31: 0.42080869582608155, 41: 0.39631862966125053, 51: 0.38647027763674896, 61: 0.3823260971174655, 71: 0.37477645336761517, 81: 0.3510539732950092, 91:0.3378118895100574}

result_70 = {1: 0.8977173949500497, 11: 0.5563271442548129, 21: 0.43342334245418135, 31: 0.3751276211680372, 41: 0.3504331182397376, 51: 0.34614148262930633, 61: 0.3399125467319639, 71: 0.3303916749867213, 81: 0.331922176294959, 91: 0.3251365009124893}


models = {
    "normal": result_normal,
    "pruned_10": result_10,
    "pruned_20": result_20,
    "pruned_30": result_30,
    "pruned_50":result_50,
    "pruned_70": result_70,
}

result_aopc = compute_aopc_morf(models)
print(result_aopc)



# AOPC values
aopc_values = [
    0.388436,
    0.375539,
    0.391512,
    0.400534,
    0.410098,
    0.426422
]
pruning_percentages = [0, 10, 20, 30, 50, 70]

# Create a DataFrame
df = pd.DataFrame({
    'Pruning Percentage': pruning_percentages,
    'AOPC': aopc_values
})

# Create the plot
fig, ax = plt.subplots(figsize=(6,3))
ax.plot(df['Pruning Percentage'], df['AOPC'], marker='o', linestyle='-')

# Add titles and labels
ax.set_xlabel('Pruning Percentage (%)',fontsize=15)
ax.set_ylabel('AOPC',fontsize=15)
ax.grid(True, which='both', linestyle='--', linewidth=0.5)

# Save the figure to a file
plt.savefig("plots/PRUNING_VS_AOPC_IG.pdf", format="pdf", dpi=300, bbox_inches="tight")
plt.show()



