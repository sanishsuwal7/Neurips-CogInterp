import sys
import os
resnet_dir = os.path.abspath(os.path.join(os.getcwd(), 'resnet'))
sys.path.append(resnet_dir)

import torch
from torch import nn
import torch.nn as nn
import torch.nn.functional as F
from torch.utils.data import DataLoader
import torch.nn.utils.prune as prune

import torchvision
from torchvision import datasets
from torchvision import transforms
from torchmetrics import Accuracy

import torch.optim as optim

import quantus
import captum
from captum.attr import Saliency, IntegratedGradients, NoiseTunnel

import pandas as pd
import numpy as np
import matplotlib.pyplot as plt

import random
import copy
import gc
import math

import warnings
warnings.filterwarnings('ignore')

from pathlib import Path

import matplotlib.pyplot as plt
%matplotlib inline

from resnet_18 import *


print(torch.cuda.is_available())


device = torch.device("cuda" if torch.cuda.is_available() else "cpu")


%run utils.ipynb
%run metrics.ipynb


batch_size = 4
train_path = '../datasets/imagenette2/train'
val_path = '../datasets/imagenette2/val'


train_dataloader = DataLoader(datasets.ImageFolder(train_path, transform = transforms.Compose([
                                                                    transforms.RandomResizedCrop(224),
                                                                    transforms.RandomHorizontalFlip(),
                                                                    transforms.ToTensor(),
                                                                    transforms.Normalize(mean=[0.485, 0.456, 0.406],
                                                                                        std=[0.229, 0.224, 0.225])
                                                            ])), batch_size = batch_size, shuffle=True, num_workers=4, pin_memory=True)

test_dataloader = DataLoader(datasets.ImageFolder(val_path,
                                                               transform=transforms.Compose([
                                                                   transforms.ToTensor(),
                                                                   transforms.Resize([224, 224]),
                                                                   transforms.Normalize(mean=[0.485, 0.456, 0.406],
                                                                                        std=[0.229, 0.224, 0.225])
                                                               ])),batch_size=batch_size, shuffle=True,num_workers=4, pin_memory=True)



classes = ['tench', 'springer', 'casette_player', 'chain_saw','church', 'French_horn', 'garbage_truck', 'gas_pump', 'golf_ball', 'parachute']



criterion = nn.CrossEntropyLoss(reduction="mean").cuda()








MODEL_PATH = "models/0_model_lt.pth.tar"
model = torch.load(MODEL_PATH, map_location=device, weights_only=False)
model.to(device)

result = filter_and_compute_road(model, test_dataloader, "Saliency", device, resnet = True)
print("The road score is: ", result)





MODEL_PATH = "models/1_10_model_lt.pth.tar"
model = torch.load(MODEL_PATH, map_location=device, weights_only=False)
model.to(device)

result = filter_and_compute_road(model, test_dataloader, "Saliency", device, resnet = True)
print("The road score is: ", result)
del model





MODEL_PATH = "models/1_model_lt.pth.tar"
model = torch.load(MODEL_PATH, map_location=device, weights_only=False)
model.to(device)

result = filter_and_compute_road(model, test_dataloader, "Saliency", device, resnet = True)
print("The road score is: ", result)





MODEL_PATH = "models/2_model_lt.pth.tar"
model = torch.load(MODEL_PATH, map_location=device, weights_only=False)
model.to(device)

result_normal = filter_and_compute_road(model, test_dataloader, "Saliency", device, resnet = True)
print("The road score is: ", result_normal)
del model





MODEL_PATH = "models/12_model_lt.pth.tar"
model = torch.load(MODEL_PATH, map_location=device, weights_only=False)
model.to(device)

result = filter_and_compute_road(model, test_dataloader, "Saliency", device, resnet = True)
print("The road score is: ", result)
del model





MODEL_PATH = "models/29_model_lt.pth.tar"
model = torch.load(MODEL_PATH, map_location=device, weights_only=False)
model.to(device)

result = filter_and_compute_road(model, test_dataloader, "Saliency", device, resnet = True)
print("The road score is: ", result)
del model





print(device)





MODEL_PATH = "models/0_model_lt.pth.tar"
model = torch.load(MODEL_PATH, map_location=device, weights_only=False)
model.to(device)
result_normal = filter_and_compute_road(model, test_dataloader, "IntegratedGradients", device, resnet = True)
print("The road score is: ", result_normal)
del model





MODEL_PATH = "models/1_10_model_lt.pth.tar"
model = torch.load(MODEL_PATH, map_location=device, weights_only=False)
model.to(device)

result_prune_10 = filter_and_compute_road(model, test_dataloader, "IntegratedGradients", device, resnet = True)
print("The road score is: ", result_prune_10)
del model





MODEL_PATH = "models/1_model_lt.pth.tar"
model = torch.load(MODEL_PATH, map_location=device, weights_only=False)
model.to(device)
result_prune_20 = filter_and_compute_road(model, test_dataloader, "IntegratedGradients", device, resnet = True)
print("The road score is: ", result_prune_20)





MODEL_PATH = "models/2_model_lt.pth.tar"
model = torch.load(MODEL_PATH, map_location=device, weights_only=False)
model.to(device)

result_prune_30 = filter_and_compute_road(model, test_dataloader, "IntegratedGradients", device, resnet = True)
print("The road score is: ", result_prune_30)
del model





MODEL_PATH = "models/12_model_lt.pth.tar"
model = torch.load(MODEL_PATH, map_location=device, weights_only=False)
model.to(device)

result_prune_50 = filter_and_compute_road(model, test_dataloader, "IntegratedGradients", device, resnet = True)
print("The road score is: ", result_prune_50)
del model





MODEL_PATH = "models/29_model_lt.pth.tar"
model = torch.load(MODEL_PATH, map_location=device, weights_only=False)
model.to(device)

result_prune_70 = filter_and_compute_road(model, test_dataloader, "IntegratedGradients", device, resnet = True)
print("The road score is: ", result_prune_70)
del model
